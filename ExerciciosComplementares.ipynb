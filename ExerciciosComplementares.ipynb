{
  "nbformat": 4,
  "nbformat_minor": 0,
  "metadata": {
    "colab": {
      "provenance": []
    },
    "kernelspec": {
      "name": "python3",
      "display_name": "Python 3"
    },
    "language_info": {
      "name": "python"
    }
  },
  "cells": [
    {
      "cell_type": "code",
      "source": [],
      "metadata": {
        "id": "kbusweEcpHA5"
      },
      "execution_count": 28,
      "outputs": []
    },
    {
      "cell_type": "markdown",
      "source": [
        "### 1 - 10"
      ],
      "metadata": {
        "id": "qrj7anw0QPok"
      }
    },
    {
      "cell_type": "code",
      "source": [
        "#1\n",
        "print(\"Hello World\")"
      ],
      "metadata": {
        "colab": {
          "base_uri": "https://localhost:8080/"
        },
        "id": "ZHiISWb-QqaF",
        "outputId": "26fa6b14-6420-4940-8542-e2e5c75577d9"
      },
      "execution_count": null,
      "outputs": [
        {
          "output_type": "stream",
          "name": "stdout",
          "text": [
            "Hello World\n"
          ]
        }
      ]
    },
    {
      "cell_type": "code",
      "source": [
        "def saudacao(nome, idade):\n",
        "  print(\"Saudações \", nome ,\" você tem\", idade ,\"anos né?\")\n",
        "\n",
        "saudacao(\"gabriel\", 21)"
      ],
      "metadata": {
        "colab": {
          "base_uri": "https://localhost:8080/"
        },
        "id": "ACit4ctnQu-E",
        "outputId": "b17f349f-b79f-41bd-d496-46ee6cdc2bc4"
      },
      "execution_count": null,
      "outputs": [
        {
          "output_type": "stream",
          "name": "stdout",
          "text": [
            "Saudações  gabriel  você tem 21 anos né?\n"
          ]
        }
      ]
    },
    {
      "cell_type": "code",
      "source": [
        "def is_par(numero): return numero%2==0"
      ],
      "metadata": {
        "id": "otNenT2cQv3s"
      },
      "execution_count": null,
      "outputs": []
    },
    {
      "cell_type": "code",
      "source": [
        "lista_5 = [x for x in range(5)]"
      ],
      "metadata": {
        "id": "13vJJqWyQwjt"
      },
      "execution_count": null,
      "outputs": []
    },
    {
      "cell_type": "code",
      "source": [
        "lista = [1,2,3,4,5,6,7]\n",
        "sum(lista)"
      ],
      "metadata": {
        "colab": {
          "base_uri": "https://localhost:8080/"
        },
        "id": "w2q-3gGRSMt1",
        "outputId": "4b0b9ddc-f338-45fd-9204-c751dec78122"
      },
      "execution_count": null,
      "outputs": [
        {
          "output_type": "execute_result",
          "data": {
            "text/plain": [
              "28"
            ]
          },
          "metadata": {},
          "execution_count": 11
        }
      ]
    },
    {
      "cell_type": "code",
      "source": [
        "maior_elemento = max(lista)\n",
        "maior_elemento"
      ],
      "metadata": {
        "colab": {
          "base_uri": "https://localhost:8080/"
        },
        "id": "gtDZVE04Q2oG",
        "outputId": "d01e042b-9ce4-43f0-eaba-5a68a586b2ae"
      },
      "execution_count": null,
      "outputs": [
        {
          "output_type": "execute_result",
          "data": {
            "text/plain": [
              "7"
            ]
          },
          "metadata": {},
          "execution_count": 10
        }
      ]
    },
    {
      "cell_type": "code",
      "source": [
        "identificador_pessoa = {\n",
        "    \"nome\" : \"Gabriel\",\n",
        "    \"idade\": 21,\n",
        "    \"Ano Nascimento\": 2003\n",
        "}"
      ],
      "metadata": {
        "id": "QiiCvFIlQ3Gm"
      },
      "execution_count": null,
      "outputs": []
    },
    {
      "cell_type": "code",
      "source": [
        "identificador_pessoa[\"UF\"] = \"Pará\""
      ],
      "metadata": {
        "id": "vHsnanc8Q3TH"
      },
      "execution_count": null,
      "outputs": []
    },
    {
      "cell_type": "code",
      "source": [
        "def fatorial(numero):\n",
        "  if numero == 1:\n",
        "    return 1\n",
        "  return fatorial(numero-1) * numero"
      ],
      "metadata": {
        "id": "Djy-C8AaQ3dm"
      },
      "execution_count": null,
      "outputs": []
    },
    {
      "cell_type": "code",
      "source": [
        "def calcular_media(lista):\n",
        "  return sum(lista)/len(lista)"
      ],
      "metadata": {
        "id": "Q8odWjW_SnPf"
      },
      "execution_count": null,
      "outputs": []
    },
    {
      "cell_type": "markdown",
      "source": [
        "### 11 - 20"
      ],
      "metadata": {
        "id": "n61vzeDRQVyY"
      }
    },
    {
      "cell_type": "code",
      "source": [
        "string = \"abcdef\"\n",
        "string.upper()"
      ],
      "metadata": {
        "colab": {
          "base_uri": "https://localhost:8080/",
          "height": 35
        },
        "id": "08i6oR-gSvaZ",
        "outputId": "4387a5b4-59d4-4936-df71-e4c762418041"
      },
      "execution_count": null,
      "outputs": [
        {
          "output_type": "execute_result",
          "data": {
            "text/plain": [
              "'ABCDEF'"
            ],
            "application/vnd.google.colaboratory.intrinsic+json": {
              "type": "string"
            }
          },
          "metadata": {},
          "execution_count": 14
        }
      ]
    },
    {
      "cell_type": "code",
      "source": [
        "count(string, 'a')"
      ],
      "metadata": {
        "colab": {
          "base_uri": "https://localhost:8080/",
          "height": 141
        },
        "id": "AYZEpTxWS3mW",
        "outputId": "d5519a79-ddf9-4f9d-b275-b2c4e053becc"
      },
      "execution_count": null,
      "outputs": [
        {
          "output_type": "error",
          "ename": "NameError",
          "evalue": "name 'count' is not defined",
          "traceback": [
            "\u001b[0;31m---------------------------------------------------------------------------\u001b[0m",
            "\u001b[0;31mNameError\u001b[0m                                 Traceback (most recent call last)",
            "\u001b[0;32m<ipython-input-15-70d6e29fda1d>\u001b[0m in \u001b[0;36m<cell line: 0>\u001b[0;34m()\u001b[0m\n\u001b[0;32m----> 1\u001b[0;31m \u001b[0mcount\u001b[0m\u001b[0;34m(\u001b[0m\u001b[0mstring\u001b[0m\u001b[0;34m,\u001b[0m \u001b[0;34m'a'\u001b[0m\u001b[0;34m)\u001b[0m\u001b[0;34m\u001b[0m\u001b[0;34m\u001b[0m\u001b[0m\n\u001b[0m",
            "\u001b[0;31mNameError\u001b[0m: name 'count' is not defined"
          ]
        }
      ]
    },
    {
      "cell_type": "code",
      "source": [],
      "metadata": {
        "id": "bXs2HRS0S5_K"
      },
      "execution_count": null,
      "outputs": []
    },
    {
      "cell_type": "code",
      "source": [],
      "metadata": {
        "id": "3I7tPvo4S6UX"
      },
      "execution_count": null,
      "outputs": []
    },
    {
      "cell_type": "code",
      "source": [],
      "metadata": {
        "id": "lFLoVMbSS6gX"
      },
      "execution_count": null,
      "outputs": []
    },
    {
      "cell_type": "code",
      "source": [],
      "metadata": {
        "id": "Ib1h3e5oS6qn"
      },
      "execution_count": null,
      "outputs": []
    },
    {
      "cell_type": "code",
      "source": [],
      "metadata": {
        "id": "16JVCKwJS61w"
      },
      "execution_count": null,
      "outputs": []
    },
    {
      "cell_type": "code",
      "source": [],
      "metadata": {
        "id": "0NLgYZ3VS8K-"
      },
      "execution_count": null,
      "outputs": []
    },
    {
      "cell_type": "code",
      "source": [],
      "metadata": {
        "id": "9uuOB9MPS8Zm"
      },
      "execution_count": null,
      "outputs": []
    },
    {
      "cell_type": "markdown",
      "source": [],
      "metadata": {
        "id": "MSAbjo68S3vP"
      }
    },
    {
      "cell_type": "markdown",
      "source": [
        "### 21 - 30"
      ],
      "metadata": {
        "id": "h-1jOOL8QV83"
      }
    },
    {
      "cell_type": "markdown",
      "source": [
        "### 31 - 40"
      ],
      "metadata": {
        "id": "Us3386DQQWBI"
      }
    },
    {
      "cell_type": "markdown",
      "source": [
        "### 41 - 50"
      ],
      "metadata": {
        "id": "Z2MOJ4CBQmGQ"
      }
    },
    {
      "cell_type": "markdown",
      "source": [
        "### 51 - 60"
      ],
      "metadata": {
        "id": "fp3aQP3FQmev"
      }
    },
    {
      "cell_type": "code",
      "source": [],
      "metadata": {
        "id": "TU8NPiemQQq2"
      },
      "execution_count": null,
      "outputs": []
    }
  ]
}