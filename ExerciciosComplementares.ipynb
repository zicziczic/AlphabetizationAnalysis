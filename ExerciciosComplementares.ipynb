{
  "nbformat": 4,
  "nbformat_minor": 0,
  "metadata": {
    "colab": {
      "provenance": []
    },
    "kernelspec": {
      "name": "python3",
      "display_name": "Python 3"
    },
    "language_info": {
      "name": "python"
    }
  },
  "cells": [
    {
      "cell_type": "code",
      "source": [],
      "metadata": {
        "id": "kbusweEcpHA5"
      },
      "execution_count": null,
      "outputs": []
    },
    {
      "cell_type": "markdown",
      "source": [
        "### 1 - 10"
      ],
      "metadata": {
        "id": "qrj7anw0QPok"
      }
    },
    {
      "cell_type": "code",
      "source": [
        "#1\n",
        "print(\"Hello World\")"
      ],
      "metadata": {
        "colab": {
          "base_uri": "https://localhost:8080/"
        },
        "id": "ZHiISWb-QqaF",
        "outputId": "c507e5e5-9056-40e0-c4c5-89920b168a22"
      },
      "execution_count": 1,
      "outputs": [
        {
          "output_type": "stream",
          "name": "stdout",
          "text": [
            "Hello World\n"
          ]
        }
      ]
    },
    {
      "cell_type": "code",
      "source": [
        "def saudacao(nome, idade):\n",
        "  print(\"Saudações \", nome ,\" você tem\", idade ,\"anos né?\")\n",
        "\n",
        "saudacao(\"gabriel\", 21)"
      ],
      "metadata": {
        "colab": {
          "base_uri": "https://localhost:8080/"
        },
        "id": "ACit4ctnQu-E",
        "outputId": "e664fcd5-535d-4899-9a51-d1ca6c349744"
      },
      "execution_count": 2,
      "outputs": [
        {
          "output_type": "stream",
          "name": "stdout",
          "text": [
            "Saudações  gabriel  você tem 21 anos né?\n"
          ]
        }
      ]
    },
    {
      "cell_type": "code",
      "source": [
        "def is_par(numero): return numero%2==0"
      ],
      "metadata": {
        "id": "otNenT2cQv3s"
      },
      "execution_count": 3,
      "outputs": []
    },
    {
      "cell_type": "code",
      "source": [
        "lista_5 = [x for x in range(5)]"
      ],
      "metadata": {
        "id": "13vJJqWyQwjt"
      },
      "execution_count": 4,
      "outputs": []
    },
    {
      "cell_type": "code",
      "source": [
        "lista = [1,2,3,4,5,6,7]\n",
        "sum(lista)"
      ],
      "metadata": {
        "colab": {
          "base_uri": "https://localhost:8080/"
        },
        "id": "w2q-3gGRSMt1",
        "outputId": "64b33c31-5e23-4b6d-d75c-7fc825908233"
      },
      "execution_count": 5,
      "outputs": [
        {
          "output_type": "execute_result",
          "data": {
            "text/plain": [
              "28"
            ]
          },
          "metadata": {},
          "execution_count": 5
        }
      ]
    },
    {
      "cell_type": "code",
      "source": [
        "maior_elemento = max(lista)\n",
        "maior_elemento"
      ],
      "metadata": {
        "colab": {
          "base_uri": "https://localhost:8080/"
        },
        "id": "gtDZVE04Q2oG",
        "outputId": "ad11101c-2c47-437c-aeb9-8fe96a0c5ac6"
      },
      "execution_count": 6,
      "outputs": [
        {
          "output_type": "execute_result",
          "data": {
            "text/plain": [
              "7"
            ]
          },
          "metadata": {},
          "execution_count": 6
        }
      ]
    },
    {
      "cell_type": "code",
      "source": [
        "identificador_pessoa = {\n",
        "    \"nome\" : \"Gabriel\",\n",
        "    \"idade\": 21,\n",
        "    \"Ano Nascimento\": 2003\n",
        "}"
      ],
      "metadata": {
        "id": "QiiCvFIlQ3Gm"
      },
      "execution_count": 7,
      "outputs": []
    },
    {
      "cell_type": "code",
      "source": [
        "identificador_pessoa[\"UF\"] = \"Pará\""
      ],
      "metadata": {
        "id": "vHsnanc8Q3TH"
      },
      "execution_count": 8,
      "outputs": []
    },
    {
      "cell_type": "code",
      "source": [
        "def fatorial(numero):\n",
        "  if numero == 1:\n",
        "    return 1\n",
        "  return fatorial(numero-1) * numero"
      ],
      "metadata": {
        "id": "Djy-C8AaQ3dm"
      },
      "execution_count": 9,
      "outputs": []
    },
    {
      "cell_type": "code",
      "source": [
        "def calcular_media(lista):\n",
        "  return sum(lista)/len(lista)"
      ],
      "metadata": {
        "id": "Q8odWjW_SnPf"
      },
      "execution_count": 10,
      "outputs": []
    },
    {
      "cell_type": "markdown",
      "source": [
        "### 11 - 20"
      ],
      "metadata": {
        "id": "n61vzeDRQVyY"
      }
    },
    {
      "cell_type": "code",
      "source": [
        "string = \"abcdef\"\n",
        "string.upper()"
      ],
      "metadata": {
        "colab": {
          "base_uri": "https://localhost:8080/",
          "height": 35
        },
        "id": "08i6oR-gSvaZ",
        "outputId": "fb754d57-353c-4013-ff20-a6c529d3dae2"
      },
      "execution_count": 11,
      "outputs": [
        {
          "output_type": "execute_result",
          "data": {
            "text/plain": [
              "'ABCDEF'"
            ],
            "application/vnd.google.colaboratory.intrinsic+json": {
              "type": "string"
            }
          },
          "metadata": {},
          "execution_count": 11
        }
      ]
    },
    {
      "cell_type": "code",
      "source": [
        "string.count('a')"
      ],
      "metadata": {
        "colab": {
          "base_uri": "https://localhost:8080/"
        },
        "id": "AYZEpTxWS3mW",
        "outputId": "2bb2355d-b621-47d9-bb05-75c301af0a9a"
      },
      "execution_count": 12,
      "outputs": [
        {
          "output_type": "execute_result",
          "data": {
            "text/plain": [
              "1"
            ]
          },
          "metadata": {},
          "execution_count": 12
        }
      ]
    },
    {
      "cell_type": "code",
      "source": [
        "lista1a10 = [i for i in range(10)]"
      ],
      "metadata": {
        "id": "bXs2HRS0S5_K"
      },
      "execution_count": 13,
      "outputs": []
    },
    {
      "cell_type": "code",
      "source": [
        "numeros_par = [x for x in lista1a10 if x%2==0]"
      ],
      "metadata": {
        "id": "3I7tPvo4S6UX"
      },
      "execution_count": 14,
      "outputs": []
    },
    {
      "cell_type": "code",
      "source": [
        "func_lambda = lambda x: x * 2"
      ],
      "metadata": {
        "id": "lFLoVMbSS6gX"
      },
      "execution_count": 15,
      "outputs": []
    },
    {
      "cell_type": "code",
      "source": [
        "numeros_par = map(func_lambda, numeros_par)"
      ],
      "metadata": {
        "id": "Ib1h3e5oS6qn"
      },
      "execution_count": 16,
      "outputs": []
    },
    {
      "cell_type": "code",
      "source": [
        "tupla = (1,2)\n",
        "tupla[1]"
      ],
      "metadata": {
        "id": "16JVCKwJS61w",
        "colab": {
          "base_uri": "https://localhost:8080/"
        },
        "outputId": "f2488bff-3a36-42b3-e131-fac50370bccd"
      },
      "execution_count": 17,
      "outputs": [
        {
          "output_type": "execute_result",
          "data": {
            "text/plain": [
              "2"
            ]
          },
          "metadata": {},
          "execution_count": 17
        }
      ]
    },
    {
      "cell_type": "code",
      "source": [
        "hash_map = set([1,2,4,6,8,11,12,123])\n",
        "\n",
        "for i in range(10):\n",
        "  if i in hash_map:\n",
        "    print(f\"O valor {i} está presente\")"
      ],
      "metadata": {
        "id": "0NLgYZ3VS8K-",
        "colab": {
          "base_uri": "https://localhost:8080/"
        },
        "outputId": "8ffd204c-8a79-461c-c560-46138bf6398c"
      },
      "execution_count": 18,
      "outputs": [
        {
          "output_type": "stream",
          "name": "stdout",
          "text": [
            "O valor 1 está presente\n",
            "O valor 2 está presente\n",
            "O valor 4 está presente\n",
            "O valor 6 está presente\n",
            "O valor 8 está presente\n"
          ]
        }
      ]
    },
    {
      "cell_type": "code",
      "source": [
        "valores_duplicados = [11,1,1,2,2,3,3,4,5,6,7,7]\n",
        "hash_map = set(valores_duplicados)\n",
        "\n",
        "print(list(hash_map))"
      ],
      "metadata": {
        "colab": {
          "base_uri": "https://localhost:8080/"
        },
        "id": "2AVHJDNBwJgu",
        "outputId": "9f5db359-2918-4cd8-d63b-94f93ca1ffb2"
      },
      "execution_count": 19,
      "outputs": [
        {
          "output_type": "stream",
          "name": "stdout",
          "text": [
            "[1, 2, 3, 4, 5, 6, 7, 11]\n"
          ]
        }
      ]
    },
    {
      "cell_type": "code",
      "source": [
        "for i in range(5): print(i)"
      ],
      "metadata": {
        "id": "9uuOB9MPS8Zm",
        "colab": {
          "base_uri": "https://localhost:8080/"
        },
        "outputId": "19f5f998-03c1-4247-c893-66e90e5e87d4"
      },
      "execution_count": 20,
      "outputs": [
        {
          "output_type": "stream",
          "name": "stdout",
          "text": [
            "0\n",
            "1\n",
            "2\n",
            "3\n",
            "4\n"
          ]
        }
      ]
    },
    {
      "cell_type": "markdown",
      "source": [],
      "metadata": {
        "id": "MSAbjo68S3vP"
      }
    },
    {
      "cell_type": "markdown",
      "source": [
        "### 21 - 30"
      ],
      "metadata": {
        "id": "h-1jOOL8QV83"
      }
    },
    {
      "cell_type": "code",
      "source": [
        "import pandas as pd\n",
        "import numpy as np"
      ],
      "metadata": {
        "id": "w7d0Njsezlhp"
      },
      "execution_count": 21,
      "outputs": []
    },
    {
      "cell_type": "code",
      "source": [
        "df = pd.read_csv('./br_ibge_censo_2022_alfabetizacao_grupo_idade_sexo_raca.csv')\n",
        "df.head()"
      ],
      "metadata": {
        "colab": {
          "base_uri": "https://localhost:8080/",
          "height": 206
        },
        "id": "kVN3bDpVzx47",
        "outputId": "6f2a4a91-8d0e-4abf-db27-a003926e4a14"
      },
      "execution_count": 28,
      "outputs": [
        {
          "output_type": "execute_result",
          "data": {
            "text/plain": [
              "   id_municipio  cor_raca      sexo   grupo_idade      alfabetizacao  \\\n",
              "0       1100023  Indígena    Homens  15 a 19 anos  Não alfabetizadas   \n",
              "1       1100262   Amarela  Mulheres  15 a 19 anos  Não alfabetizadas   \n",
              "2       1101005   Amarela  Mulheres  15 a 19 anos  Não alfabetizadas   \n",
              "3       1101435   Amarela  Mulheres  15 a 19 anos  Não alfabetizadas   \n",
              "4       1101435  Indígena  Mulheres  15 a 19 anos  Não alfabetizadas   \n",
              "\n",
              "   populacao  \n",
              "0        NaN  \n",
              "1        NaN  \n",
              "2        NaN  \n",
              "3        NaN  \n",
              "4        NaN  "
            ],
            "text/html": [
              "\n",
              "  <div id=\"df-eb3e811e-349e-4f8f-a6ca-35d511de720e\" class=\"colab-df-container\">\n",
              "    <div>\n",
              "<style scoped>\n",
              "    .dataframe tbody tr th:only-of-type {\n",
              "        vertical-align: middle;\n",
              "    }\n",
              "\n",
              "    .dataframe tbody tr th {\n",
              "        vertical-align: top;\n",
              "    }\n",
              "\n",
              "    .dataframe thead th {\n",
              "        text-align: right;\n",
              "    }\n",
              "</style>\n",
              "<table border=\"1\" class=\"dataframe\">\n",
              "  <thead>\n",
              "    <tr style=\"text-align: right;\">\n",
              "      <th></th>\n",
              "      <th>id_municipio</th>\n",
              "      <th>cor_raca</th>\n",
              "      <th>sexo</th>\n",
              "      <th>grupo_idade</th>\n",
              "      <th>alfabetizacao</th>\n",
              "      <th>populacao</th>\n",
              "    </tr>\n",
              "  </thead>\n",
              "  <tbody>\n",
              "    <tr>\n",
              "      <th>0</th>\n",
              "      <td>1100023</td>\n",
              "      <td>Indígena</td>\n",
              "      <td>Homens</td>\n",
              "      <td>15 a 19 anos</td>\n",
              "      <td>Não alfabetizadas</td>\n",
              "      <td>NaN</td>\n",
              "    </tr>\n",
              "    <tr>\n",
              "      <th>1</th>\n",
              "      <td>1100262</td>\n",
              "      <td>Amarela</td>\n",
              "      <td>Mulheres</td>\n",
              "      <td>15 a 19 anos</td>\n",
              "      <td>Não alfabetizadas</td>\n",
              "      <td>NaN</td>\n",
              "    </tr>\n",
              "    <tr>\n",
              "      <th>2</th>\n",
              "      <td>1101005</td>\n",
              "      <td>Amarela</td>\n",
              "      <td>Mulheres</td>\n",
              "      <td>15 a 19 anos</td>\n",
              "      <td>Não alfabetizadas</td>\n",
              "      <td>NaN</td>\n",
              "    </tr>\n",
              "    <tr>\n",
              "      <th>3</th>\n",
              "      <td>1101435</td>\n",
              "      <td>Amarela</td>\n",
              "      <td>Mulheres</td>\n",
              "      <td>15 a 19 anos</td>\n",
              "      <td>Não alfabetizadas</td>\n",
              "      <td>NaN</td>\n",
              "    </tr>\n",
              "    <tr>\n",
              "      <th>4</th>\n",
              "      <td>1101435</td>\n",
              "      <td>Indígena</td>\n",
              "      <td>Mulheres</td>\n",
              "      <td>15 a 19 anos</td>\n",
              "      <td>Não alfabetizadas</td>\n",
              "      <td>NaN</td>\n",
              "    </tr>\n",
              "  </tbody>\n",
              "</table>\n",
              "</div>\n",
              "    <div class=\"colab-df-buttons\">\n",
              "\n",
              "  <div class=\"colab-df-container\">\n",
              "    <button class=\"colab-df-convert\" onclick=\"convertToInteractive('df-eb3e811e-349e-4f8f-a6ca-35d511de720e')\"\n",
              "            title=\"Convert this dataframe to an interactive table.\"\n",
              "            style=\"display:none;\">\n",
              "\n",
              "  <svg xmlns=\"http://www.w3.org/2000/svg\" height=\"24px\" viewBox=\"0 -960 960 960\">\n",
              "    <path d=\"M120-120v-720h720v720H120Zm60-500h600v-160H180v160Zm220 220h160v-160H400v160Zm0 220h160v-160H400v160ZM180-400h160v-160H180v160Zm440 0h160v-160H620v160ZM180-180h160v-160H180v160Zm440 0h160v-160H620v160Z\"/>\n",
              "  </svg>\n",
              "    </button>\n",
              "\n",
              "  <style>\n",
              "    .colab-df-container {\n",
              "      display:flex;\n",
              "      gap: 12px;\n",
              "    }\n",
              "\n",
              "    .colab-df-convert {\n",
              "      background-color: #E8F0FE;\n",
              "      border: none;\n",
              "      border-radius: 50%;\n",
              "      cursor: pointer;\n",
              "      display: none;\n",
              "      fill: #1967D2;\n",
              "      height: 32px;\n",
              "      padding: 0 0 0 0;\n",
              "      width: 32px;\n",
              "    }\n",
              "\n",
              "    .colab-df-convert:hover {\n",
              "      background-color: #E2EBFA;\n",
              "      box-shadow: 0px 1px 2px rgba(60, 64, 67, 0.3), 0px 1px 3px 1px rgba(60, 64, 67, 0.15);\n",
              "      fill: #174EA6;\n",
              "    }\n",
              "\n",
              "    .colab-df-buttons div {\n",
              "      margin-bottom: 4px;\n",
              "    }\n",
              "\n",
              "    [theme=dark] .colab-df-convert {\n",
              "      background-color: #3B4455;\n",
              "      fill: #D2E3FC;\n",
              "    }\n",
              "\n",
              "    [theme=dark] .colab-df-convert:hover {\n",
              "      background-color: #434B5C;\n",
              "      box-shadow: 0px 1px 3px 1px rgba(0, 0, 0, 0.15);\n",
              "      filter: drop-shadow(0px 1px 2px rgba(0, 0, 0, 0.3));\n",
              "      fill: #FFFFFF;\n",
              "    }\n",
              "  </style>\n",
              "\n",
              "    <script>\n",
              "      const buttonEl =\n",
              "        document.querySelector('#df-eb3e811e-349e-4f8f-a6ca-35d511de720e button.colab-df-convert');\n",
              "      buttonEl.style.display =\n",
              "        google.colab.kernel.accessAllowed ? 'block' : 'none';\n",
              "\n",
              "      async function convertToInteractive(key) {\n",
              "        const element = document.querySelector('#df-eb3e811e-349e-4f8f-a6ca-35d511de720e');\n",
              "        const dataTable =\n",
              "          await google.colab.kernel.invokeFunction('convertToInteractive',\n",
              "                                                    [key], {});\n",
              "        if (!dataTable) return;\n",
              "\n",
              "        const docLinkHtml = 'Like what you see? Visit the ' +\n",
              "          '<a target=\"_blank\" href=https://colab.research.google.com/notebooks/data_table.ipynb>data table notebook</a>'\n",
              "          + ' to learn more about interactive tables.';\n",
              "        element.innerHTML = '';\n",
              "        dataTable['output_type'] = 'display_data';\n",
              "        await google.colab.output.renderOutput(dataTable, element);\n",
              "        const docLink = document.createElement('div');\n",
              "        docLink.innerHTML = docLinkHtml;\n",
              "        element.appendChild(docLink);\n",
              "      }\n",
              "    </script>\n",
              "  </div>\n",
              "\n",
              "\n",
              "    <div id=\"df-a3218e91-896e-4738-bc37-ba331e209fca\">\n",
              "      <button class=\"colab-df-quickchart\" onclick=\"quickchart('df-a3218e91-896e-4738-bc37-ba331e209fca')\"\n",
              "                title=\"Suggest charts\"\n",
              "                style=\"display:none;\">\n",
              "\n",
              "<svg xmlns=\"http://www.w3.org/2000/svg\" height=\"24px\"viewBox=\"0 0 24 24\"\n",
              "     width=\"24px\">\n",
              "    <g>\n",
              "        <path d=\"M19 3H5c-1.1 0-2 .9-2 2v14c0 1.1.9 2 2 2h14c1.1 0 2-.9 2-2V5c0-1.1-.9-2-2-2zM9 17H7v-7h2v7zm4 0h-2V7h2v10zm4 0h-2v-4h2v4z\"/>\n",
              "    </g>\n",
              "</svg>\n",
              "      </button>\n",
              "\n",
              "<style>\n",
              "  .colab-df-quickchart {\n",
              "      --bg-color: #E8F0FE;\n",
              "      --fill-color: #1967D2;\n",
              "      --hover-bg-color: #E2EBFA;\n",
              "      --hover-fill-color: #174EA6;\n",
              "      --disabled-fill-color: #AAA;\n",
              "      --disabled-bg-color: #DDD;\n",
              "  }\n",
              "\n",
              "  [theme=dark] .colab-df-quickchart {\n",
              "      --bg-color: #3B4455;\n",
              "      --fill-color: #D2E3FC;\n",
              "      --hover-bg-color: #434B5C;\n",
              "      --hover-fill-color: #FFFFFF;\n",
              "      --disabled-bg-color: #3B4455;\n",
              "      --disabled-fill-color: #666;\n",
              "  }\n",
              "\n",
              "  .colab-df-quickchart {\n",
              "    background-color: var(--bg-color);\n",
              "    border: none;\n",
              "    border-radius: 50%;\n",
              "    cursor: pointer;\n",
              "    display: none;\n",
              "    fill: var(--fill-color);\n",
              "    height: 32px;\n",
              "    padding: 0;\n",
              "    width: 32px;\n",
              "  }\n",
              "\n",
              "  .colab-df-quickchart:hover {\n",
              "    background-color: var(--hover-bg-color);\n",
              "    box-shadow: 0 1px 2px rgba(60, 64, 67, 0.3), 0 1px 3px 1px rgba(60, 64, 67, 0.15);\n",
              "    fill: var(--button-hover-fill-color);\n",
              "  }\n",
              "\n",
              "  .colab-df-quickchart-complete:disabled,\n",
              "  .colab-df-quickchart-complete:disabled:hover {\n",
              "    background-color: var(--disabled-bg-color);\n",
              "    fill: var(--disabled-fill-color);\n",
              "    box-shadow: none;\n",
              "  }\n",
              "\n",
              "  .colab-df-spinner {\n",
              "    border: 2px solid var(--fill-color);\n",
              "    border-color: transparent;\n",
              "    border-bottom-color: var(--fill-color);\n",
              "    animation:\n",
              "      spin 1s steps(1) infinite;\n",
              "  }\n",
              "\n",
              "  @keyframes spin {\n",
              "    0% {\n",
              "      border-color: transparent;\n",
              "      border-bottom-color: var(--fill-color);\n",
              "      border-left-color: var(--fill-color);\n",
              "    }\n",
              "    20% {\n",
              "      border-color: transparent;\n",
              "      border-left-color: var(--fill-color);\n",
              "      border-top-color: var(--fill-color);\n",
              "    }\n",
              "    30% {\n",
              "      border-color: transparent;\n",
              "      border-left-color: var(--fill-color);\n",
              "      border-top-color: var(--fill-color);\n",
              "      border-right-color: var(--fill-color);\n",
              "    }\n",
              "    40% {\n",
              "      border-color: transparent;\n",
              "      border-right-color: var(--fill-color);\n",
              "      border-top-color: var(--fill-color);\n",
              "    }\n",
              "    60% {\n",
              "      border-color: transparent;\n",
              "      border-right-color: var(--fill-color);\n",
              "    }\n",
              "    80% {\n",
              "      border-color: transparent;\n",
              "      border-right-color: var(--fill-color);\n",
              "      border-bottom-color: var(--fill-color);\n",
              "    }\n",
              "    90% {\n",
              "      border-color: transparent;\n",
              "      border-bottom-color: var(--fill-color);\n",
              "    }\n",
              "  }\n",
              "</style>\n",
              "\n",
              "      <script>\n",
              "        async function quickchart(key) {\n",
              "          const quickchartButtonEl =\n",
              "            document.querySelector('#' + key + ' button');\n",
              "          quickchartButtonEl.disabled = true;  // To prevent multiple clicks.\n",
              "          quickchartButtonEl.classList.add('colab-df-spinner');\n",
              "          try {\n",
              "            const charts = await google.colab.kernel.invokeFunction(\n",
              "                'suggestCharts', [key], {});\n",
              "          } catch (error) {\n",
              "            console.error('Error during call to suggestCharts:', error);\n",
              "          }\n",
              "          quickchartButtonEl.classList.remove('colab-df-spinner');\n",
              "          quickchartButtonEl.classList.add('colab-df-quickchart-complete');\n",
              "        }\n",
              "        (() => {\n",
              "          let quickchartButtonEl =\n",
              "            document.querySelector('#df-a3218e91-896e-4738-bc37-ba331e209fca button');\n",
              "          quickchartButtonEl.style.display =\n",
              "            google.colab.kernel.accessAllowed ? 'block' : 'none';\n",
              "        })();\n",
              "      </script>\n",
              "    </div>\n",
              "\n",
              "    </div>\n",
              "  </div>\n"
            ],
            "application/vnd.google.colaboratory.intrinsic+json": {
              "type": "dataframe",
              "variable_name": "df"
            }
          },
          "metadata": {},
          "execution_count": 28
        }
      ]
    },
    {
      "cell_type": "code",
      "source": [
        "df.columns\n",
        "for col in df.columns:\n",
        "  print(\"Colunea:\",col)\n",
        "  print(\"Tipo: \",df[col].dtype)\n",
        "  print(\"\\n\")"
      ],
      "metadata": {
        "colab": {
          "base_uri": "https://localhost:8080/"
        },
        "id": "-0hJnolozlr7",
        "outputId": "b54d10b0-851f-4fca-9b14-d82721552a91"
      },
      "execution_count": 24,
      "outputs": [
        {
          "output_type": "stream",
          "name": "stdout",
          "text": [
            "Colunea: id_municipio\n",
            "Tipo:  int64\n",
            "\n",
            "\n",
            "Colunea: cor_raca\n",
            "Tipo:  object\n",
            "\n",
            "\n",
            "Colunea: sexo\n",
            "Tipo:  object\n",
            "\n",
            "\n",
            "Colunea: grupo_idade\n",
            "Tipo:  object\n",
            "\n",
            "\n",
            "Colunea: alfabetizacao\n",
            "Tipo:  object\n",
            "\n",
            "\n",
            "Colunea: populacao\n",
            "Tipo:  float64\n",
            "\n",
            "\n"
          ]
        }
      ]
    },
    {
      "cell_type": "code",
      "source": [
        "len(df)"
      ],
      "metadata": {
        "colab": {
          "base_uri": "https://localhost:8080/"
        },
        "id": "w3bBVir_zl2D",
        "outputId": "e6107a2b-aa31-4e2f-af35-050f71f86f53"
      },
      "execution_count": 29,
      "outputs": [
        {
          "output_type": "execute_result",
          "data": {
            "text/plain": [
              "779800"
            ]
          },
          "metadata": {},
          "execution_count": 29
        }
      ]
    },
    {
      "cell_type": "code",
      "source": [
        "df[\"sexo\"].unique()"
      ],
      "metadata": {
        "colab": {
          "base_uri": "https://localhost:8080/"
        },
        "id": "73Ep6yeGzl_D",
        "outputId": "23d5bb04-a96a-4be7-bf43-7bb3e13bab40"
      },
      "execution_count": 30,
      "outputs": [
        {
          "output_type": "execute_result",
          "data": {
            "text/plain": [
              "array(['Homens', 'Mulheres'], dtype=object)"
            ]
          },
          "metadata": {},
          "execution_count": 30
        }
      ]
    },
    {
      "cell_type": "code",
      "source": [
        "df[df[\"sexo\"] == \"Mulheres\"]"
      ],
      "metadata": {
        "colab": {
          "base_uri": "https://localhost:8080/",
          "height": 424
        },
        "id": "FA20TJjLzmIS",
        "outputId": "ed0e0379-0e6a-4888-b941-5665a327d314"
      },
      "execution_count": 31,
      "outputs": [
        {
          "output_type": "execute_result",
          "data": {
            "text/plain": [
              "        id_municipio  cor_raca      sexo      grupo_idade      alfabetizacao  \\\n",
              "1            1100262   Amarela  Mulheres     15 a 19 anos  Não alfabetizadas   \n",
              "2            1101005   Amarela  Mulheres     15 a 19 anos  Não alfabetizadas   \n",
              "3            1101435   Amarela  Mulheres     15 a 19 anos  Não alfabetizadas   \n",
              "4            1101435  Indígena  Mulheres     15 a 19 anos  Não alfabetizadas   \n",
              "5            1100346  Indígena  Mulheres     15 a 19 anos  Não alfabetizadas   \n",
              "...              ...       ...       ...              ...                ...   \n",
              "779787       3134400    Branca  Mulheres  65 anos ou mais      Alfabetizadas   \n",
              "779792       4219002    Branca  Mulheres  65 anos ou mais      Alfabetizadas   \n",
              "779796       4318903    Branca  Mulheres  65 anos ou mais      Alfabetizadas   \n",
              "779798       3302700    Branca  Mulheres  65 anos ou mais      Alfabetizadas   \n",
              "779799       2607901     Parda  Mulheres  65 anos ou mais      Alfabetizadas   \n",
              "\n",
              "        populacao  \n",
              "1             NaN  \n",
              "2             NaN  \n",
              "3             NaN  \n",
              "4             NaN  \n",
              "5             NaN  \n",
              "...           ...  \n",
              "779787     1023.0  \n",
              "779792     1535.0  \n",
              "779796     2047.0  \n",
              "779798     7167.0  \n",
              "779799    13823.0  \n",
              "\n",
              "[389900 rows x 6 columns]"
            ],
            "text/html": [
              "\n",
              "  <div id=\"df-c5bd3019-16e4-402f-991d-74db0f6e3ba7\" class=\"colab-df-container\">\n",
              "    <div>\n",
              "<style scoped>\n",
              "    .dataframe tbody tr th:only-of-type {\n",
              "        vertical-align: middle;\n",
              "    }\n",
              "\n",
              "    .dataframe tbody tr th {\n",
              "        vertical-align: top;\n",
              "    }\n",
              "\n",
              "    .dataframe thead th {\n",
              "        text-align: right;\n",
              "    }\n",
              "</style>\n",
              "<table border=\"1\" class=\"dataframe\">\n",
              "  <thead>\n",
              "    <tr style=\"text-align: right;\">\n",
              "      <th></th>\n",
              "      <th>id_municipio</th>\n",
              "      <th>cor_raca</th>\n",
              "      <th>sexo</th>\n",
              "      <th>grupo_idade</th>\n",
              "      <th>alfabetizacao</th>\n",
              "      <th>populacao</th>\n",
              "    </tr>\n",
              "  </thead>\n",
              "  <tbody>\n",
              "    <tr>\n",
              "      <th>1</th>\n",
              "      <td>1100262</td>\n",
              "      <td>Amarela</td>\n",
              "      <td>Mulheres</td>\n",
              "      <td>15 a 19 anos</td>\n",
              "      <td>Não alfabetizadas</td>\n",
              "      <td>NaN</td>\n",
              "    </tr>\n",
              "    <tr>\n",
              "      <th>2</th>\n",
              "      <td>1101005</td>\n",
              "      <td>Amarela</td>\n",
              "      <td>Mulheres</td>\n",
              "      <td>15 a 19 anos</td>\n",
              "      <td>Não alfabetizadas</td>\n",
              "      <td>NaN</td>\n",
              "    </tr>\n",
              "    <tr>\n",
              "      <th>3</th>\n",
              "      <td>1101435</td>\n",
              "      <td>Amarela</td>\n",
              "      <td>Mulheres</td>\n",
              "      <td>15 a 19 anos</td>\n",
              "      <td>Não alfabetizadas</td>\n",
              "      <td>NaN</td>\n",
              "    </tr>\n",
              "    <tr>\n",
              "      <th>4</th>\n",
              "      <td>1101435</td>\n",
              "      <td>Indígena</td>\n",
              "      <td>Mulheres</td>\n",
              "      <td>15 a 19 anos</td>\n",
              "      <td>Não alfabetizadas</td>\n",
              "      <td>NaN</td>\n",
              "    </tr>\n",
              "    <tr>\n",
              "      <th>5</th>\n",
              "      <td>1100346</td>\n",
              "      <td>Indígena</td>\n",
              "      <td>Mulheres</td>\n",
              "      <td>15 a 19 anos</td>\n",
              "      <td>Não alfabetizadas</td>\n",
              "      <td>NaN</td>\n",
              "    </tr>\n",
              "    <tr>\n",
              "      <th>...</th>\n",
              "      <td>...</td>\n",
              "      <td>...</td>\n",
              "      <td>...</td>\n",
              "      <td>...</td>\n",
              "      <td>...</td>\n",
              "      <td>...</td>\n",
              "    </tr>\n",
              "    <tr>\n",
              "      <th>779787</th>\n",
              "      <td>3134400</td>\n",
              "      <td>Branca</td>\n",
              "      <td>Mulheres</td>\n",
              "      <td>65 anos ou mais</td>\n",
              "      <td>Alfabetizadas</td>\n",
              "      <td>1023.0</td>\n",
              "    </tr>\n",
              "    <tr>\n",
              "      <th>779792</th>\n",
              "      <td>4219002</td>\n",
              "      <td>Branca</td>\n",
              "      <td>Mulheres</td>\n",
              "      <td>65 anos ou mais</td>\n",
              "      <td>Alfabetizadas</td>\n",
              "      <td>1535.0</td>\n",
              "    </tr>\n",
              "    <tr>\n",
              "      <th>779796</th>\n",
              "      <td>4318903</td>\n",
              "      <td>Branca</td>\n",
              "      <td>Mulheres</td>\n",
              "      <td>65 anos ou mais</td>\n",
              "      <td>Alfabetizadas</td>\n",
              "      <td>2047.0</td>\n",
              "    </tr>\n",
              "    <tr>\n",
              "      <th>779798</th>\n",
              "      <td>3302700</td>\n",
              "      <td>Branca</td>\n",
              "      <td>Mulheres</td>\n",
              "      <td>65 anos ou mais</td>\n",
              "      <td>Alfabetizadas</td>\n",
              "      <td>7167.0</td>\n",
              "    </tr>\n",
              "    <tr>\n",
              "      <th>779799</th>\n",
              "      <td>2607901</td>\n",
              "      <td>Parda</td>\n",
              "      <td>Mulheres</td>\n",
              "      <td>65 anos ou mais</td>\n",
              "      <td>Alfabetizadas</td>\n",
              "      <td>13823.0</td>\n",
              "    </tr>\n",
              "  </tbody>\n",
              "</table>\n",
              "<p>389900 rows × 6 columns</p>\n",
              "</div>\n",
              "    <div class=\"colab-df-buttons\">\n",
              "\n",
              "  <div class=\"colab-df-container\">\n",
              "    <button class=\"colab-df-convert\" onclick=\"convertToInteractive('df-c5bd3019-16e4-402f-991d-74db0f6e3ba7')\"\n",
              "            title=\"Convert this dataframe to an interactive table.\"\n",
              "            style=\"display:none;\">\n",
              "\n",
              "  <svg xmlns=\"http://www.w3.org/2000/svg\" height=\"24px\" viewBox=\"0 -960 960 960\">\n",
              "    <path d=\"M120-120v-720h720v720H120Zm60-500h600v-160H180v160Zm220 220h160v-160H400v160Zm0 220h160v-160H400v160ZM180-400h160v-160H180v160Zm440 0h160v-160H620v160ZM180-180h160v-160H180v160Zm440 0h160v-160H620v160Z\"/>\n",
              "  </svg>\n",
              "    </button>\n",
              "\n",
              "  <style>\n",
              "    .colab-df-container {\n",
              "      display:flex;\n",
              "      gap: 12px;\n",
              "    }\n",
              "\n",
              "    .colab-df-convert {\n",
              "      background-color: #E8F0FE;\n",
              "      border: none;\n",
              "      border-radius: 50%;\n",
              "      cursor: pointer;\n",
              "      display: none;\n",
              "      fill: #1967D2;\n",
              "      height: 32px;\n",
              "      padding: 0 0 0 0;\n",
              "      width: 32px;\n",
              "    }\n",
              "\n",
              "    .colab-df-convert:hover {\n",
              "      background-color: #E2EBFA;\n",
              "      box-shadow: 0px 1px 2px rgba(60, 64, 67, 0.3), 0px 1px 3px 1px rgba(60, 64, 67, 0.15);\n",
              "      fill: #174EA6;\n",
              "    }\n",
              "\n",
              "    .colab-df-buttons div {\n",
              "      margin-bottom: 4px;\n",
              "    }\n",
              "\n",
              "    [theme=dark] .colab-df-convert {\n",
              "      background-color: #3B4455;\n",
              "      fill: #D2E3FC;\n",
              "    }\n",
              "\n",
              "    [theme=dark] .colab-df-convert:hover {\n",
              "      background-color: #434B5C;\n",
              "      box-shadow: 0px 1px 3px 1px rgba(0, 0, 0, 0.15);\n",
              "      filter: drop-shadow(0px 1px 2px rgba(0, 0, 0, 0.3));\n",
              "      fill: #FFFFFF;\n",
              "    }\n",
              "  </style>\n",
              "\n",
              "    <script>\n",
              "      const buttonEl =\n",
              "        document.querySelector('#df-c5bd3019-16e4-402f-991d-74db0f6e3ba7 button.colab-df-convert');\n",
              "      buttonEl.style.display =\n",
              "        google.colab.kernel.accessAllowed ? 'block' : 'none';\n",
              "\n",
              "      async function convertToInteractive(key) {\n",
              "        const element = document.querySelector('#df-c5bd3019-16e4-402f-991d-74db0f6e3ba7');\n",
              "        const dataTable =\n",
              "          await google.colab.kernel.invokeFunction('convertToInteractive',\n",
              "                                                    [key], {});\n",
              "        if (!dataTable) return;\n",
              "\n",
              "        const docLinkHtml = 'Like what you see? Visit the ' +\n",
              "          '<a target=\"_blank\" href=https://colab.research.google.com/notebooks/data_table.ipynb>data table notebook</a>'\n",
              "          + ' to learn more about interactive tables.';\n",
              "        element.innerHTML = '';\n",
              "        dataTable['output_type'] = 'display_data';\n",
              "        await google.colab.output.renderOutput(dataTable, element);\n",
              "        const docLink = document.createElement('div');\n",
              "        docLink.innerHTML = docLinkHtml;\n",
              "        element.appendChild(docLink);\n",
              "      }\n",
              "    </script>\n",
              "  </div>\n",
              "\n",
              "\n",
              "    <div id=\"df-c0f8d9d2-aebd-4cb1-99ad-586709f10b68\">\n",
              "      <button class=\"colab-df-quickchart\" onclick=\"quickchart('df-c0f8d9d2-aebd-4cb1-99ad-586709f10b68')\"\n",
              "                title=\"Suggest charts\"\n",
              "                style=\"display:none;\">\n",
              "\n",
              "<svg xmlns=\"http://www.w3.org/2000/svg\" height=\"24px\"viewBox=\"0 0 24 24\"\n",
              "     width=\"24px\">\n",
              "    <g>\n",
              "        <path d=\"M19 3H5c-1.1 0-2 .9-2 2v14c0 1.1.9 2 2 2h14c1.1 0 2-.9 2-2V5c0-1.1-.9-2-2-2zM9 17H7v-7h2v7zm4 0h-2V7h2v10zm4 0h-2v-4h2v4z\"/>\n",
              "    </g>\n",
              "</svg>\n",
              "      </button>\n",
              "\n",
              "<style>\n",
              "  .colab-df-quickchart {\n",
              "      --bg-color: #E8F0FE;\n",
              "      --fill-color: #1967D2;\n",
              "      --hover-bg-color: #E2EBFA;\n",
              "      --hover-fill-color: #174EA6;\n",
              "      --disabled-fill-color: #AAA;\n",
              "      --disabled-bg-color: #DDD;\n",
              "  }\n",
              "\n",
              "  [theme=dark] .colab-df-quickchart {\n",
              "      --bg-color: #3B4455;\n",
              "      --fill-color: #D2E3FC;\n",
              "      --hover-bg-color: #434B5C;\n",
              "      --hover-fill-color: #FFFFFF;\n",
              "      --disabled-bg-color: #3B4455;\n",
              "      --disabled-fill-color: #666;\n",
              "  }\n",
              "\n",
              "  .colab-df-quickchart {\n",
              "    background-color: var(--bg-color);\n",
              "    border: none;\n",
              "    border-radius: 50%;\n",
              "    cursor: pointer;\n",
              "    display: none;\n",
              "    fill: var(--fill-color);\n",
              "    height: 32px;\n",
              "    padding: 0;\n",
              "    width: 32px;\n",
              "  }\n",
              "\n",
              "  .colab-df-quickchart:hover {\n",
              "    background-color: var(--hover-bg-color);\n",
              "    box-shadow: 0 1px 2px rgba(60, 64, 67, 0.3), 0 1px 3px 1px rgba(60, 64, 67, 0.15);\n",
              "    fill: var(--button-hover-fill-color);\n",
              "  }\n",
              "\n",
              "  .colab-df-quickchart-complete:disabled,\n",
              "  .colab-df-quickchart-complete:disabled:hover {\n",
              "    background-color: var(--disabled-bg-color);\n",
              "    fill: var(--disabled-fill-color);\n",
              "    box-shadow: none;\n",
              "  }\n",
              "\n",
              "  .colab-df-spinner {\n",
              "    border: 2px solid var(--fill-color);\n",
              "    border-color: transparent;\n",
              "    border-bottom-color: var(--fill-color);\n",
              "    animation:\n",
              "      spin 1s steps(1) infinite;\n",
              "  }\n",
              "\n",
              "  @keyframes spin {\n",
              "    0% {\n",
              "      border-color: transparent;\n",
              "      border-bottom-color: var(--fill-color);\n",
              "      border-left-color: var(--fill-color);\n",
              "    }\n",
              "    20% {\n",
              "      border-color: transparent;\n",
              "      border-left-color: var(--fill-color);\n",
              "      border-top-color: var(--fill-color);\n",
              "    }\n",
              "    30% {\n",
              "      border-color: transparent;\n",
              "      border-left-color: var(--fill-color);\n",
              "      border-top-color: var(--fill-color);\n",
              "      border-right-color: var(--fill-color);\n",
              "    }\n",
              "    40% {\n",
              "      border-color: transparent;\n",
              "      border-right-color: var(--fill-color);\n",
              "      border-top-color: var(--fill-color);\n",
              "    }\n",
              "    60% {\n",
              "      border-color: transparent;\n",
              "      border-right-color: var(--fill-color);\n",
              "    }\n",
              "    80% {\n",
              "      border-color: transparent;\n",
              "      border-right-color: var(--fill-color);\n",
              "      border-bottom-color: var(--fill-color);\n",
              "    }\n",
              "    90% {\n",
              "      border-color: transparent;\n",
              "      border-bottom-color: var(--fill-color);\n",
              "    }\n",
              "  }\n",
              "</style>\n",
              "\n",
              "      <script>\n",
              "        async function quickchart(key) {\n",
              "          const quickchartButtonEl =\n",
              "            document.querySelector('#' + key + ' button');\n",
              "          quickchartButtonEl.disabled = true;  // To prevent multiple clicks.\n",
              "          quickchartButtonEl.classList.add('colab-df-spinner');\n",
              "          try {\n",
              "            const charts = await google.colab.kernel.invokeFunction(\n",
              "                'suggestCharts', [key], {});\n",
              "          } catch (error) {\n",
              "            console.error('Error during call to suggestCharts:', error);\n",
              "          }\n",
              "          quickchartButtonEl.classList.remove('colab-df-spinner');\n",
              "          quickchartButtonEl.classList.add('colab-df-quickchart-complete');\n",
              "        }\n",
              "        (() => {\n",
              "          let quickchartButtonEl =\n",
              "            document.querySelector('#df-c0f8d9d2-aebd-4cb1-99ad-586709f10b68 button');\n",
              "          quickchartButtonEl.style.display =\n",
              "            google.colab.kernel.accessAllowed ? 'block' : 'none';\n",
              "        })();\n",
              "      </script>\n",
              "    </div>\n",
              "\n",
              "    </div>\n",
              "  </div>\n"
            ],
            "application/vnd.google.colaboratory.intrinsic+json": {
              "type": "dataframe"
            }
          },
          "metadata": {},
          "execution_count": 31
        }
      ]
    },
    {
      "cell_type": "code",
      "source": [
        "df_aux = df[df[\"alfabetizacao\"] == \"Alfabetizadas\"]\n",
        "df_aux = df_aux[~df_aux[\"populacao\"].isna()]\n",
        "df_aux[\"grupo_idade\"].value_counts()\n",
        "medias_per_agegroup = {}\n",
        "\n",
        "for grupo in df_aux[\"grupo_idade\"].unique():\n",
        "  df_aux_2 = df_aux[df_aux[\"grupo_idade\"] == grupo]\n",
        "  media = df_aux_2[\"populacao\"].sum()/len(df_aux_2[\"populacao\"])\n",
        "\n",
        "  if ~np.isnan(media):\n",
        "    medias_per_agegroup[grupo] = round(float(media),2)\n",
        "medias_per_agegroup\n"
      ],
      "metadata": {
        "colab": {
          "base_uri": "https://localhost:8080/"
        },
        "id": "iNeLotRHPRxi",
        "outputId": "f6c0e731-1286-4abd-faec-d3e6adb60a92"
      },
      "execution_count": 34,
      "outputs": [
        {
          "output_type": "execute_result",
          "data": {
            "text/plain": [
              "{'15 a 19 anos': 338.32,\n",
              " '20 a 24 anos': 360.79,\n",
              " '25 a 34 anos': 675.4,\n",
              " '35 a 44 anos': 684.16,\n",
              " '45 a 54 anos': 546.47,\n",
              " '55 a 64 anos': 440.16,\n",
              " '65 anos ou mais': 408.66}"
            ]
          },
          "metadata": {},
          "execution_count": 34
        }
      ]
    },
    {
      "cell_type": "code",
      "source": [
        "alfabetizados = df[df[\"alfabetizacao\"] == \"Alfabetizadas\"]\n",
        "dict_aux = {}\n",
        "for grupo in df[\"grupo_idade\"].unique():\n",
        "  df_aux = df[df[\"grupo_idade\"] == grupo]\n",
        "  alfabetizados_aux = alfabetizados[alfabetizados[\"grupo_idade\"] == grupo]\n",
        "  dict_aux[grupo] = (alfabetizados_aux[\"populacao\"].sum()/len(alfabetizados_aux[\"populacao\"]))\n",
        "\n",
        "max_value = 0\n",
        "\n",
        "for item, value in dict_aux.items():\n",
        "  if value > max_value:\n",
        "    max_value = round(value,2)\n",
        "    max_item = item\n",
        "print(\"O grupo com maior média de alfabetização é\", max_item)\n",
        "print(\"Tendo uma média de\", max_value)\n",
        "print(\"Qantidade de pessoas alfabetizadas\",len(alfabetizados[alfabetizados[\"grupo_idade\"] == max_item]))\n",
        "\n"
      ],
      "metadata": {
        "colab": {
          "base_uri": "https://localhost:8080/"
        },
        "id": "e55ovNb0zmm6",
        "outputId": "694baca3-3110-44ee-dba8-acd93225a971"
      },
      "execution_count": 37,
      "outputs": [
        {
          "output_type": "stream",
          "name": "stdout",
          "text": [
            "O grupo com maior média de alfabetização é 35 a 44 anos\n",
            "Tendo uma média de 555.07\n",
            "Qantidade de pessoas alfabetizadas 55700\n"
          ]
        }
      ]
    },
    {
      "cell_type": "code",
      "source": [
        "import matplotlib.pyplot as plt\n",
        "import seaborn as sns"
      ],
      "metadata": {
        "id": "Yg0CY92pzmxU"
      },
      "execution_count": 42,
      "outputs": []
    },
    {
      "cell_type": "code",
      "source": [
        "for grupo in df[\"sexo\"].unique():\n",
        "  df_sexo = df[df[\"sexo\"] == grupo]\n",
        "  #print(df_sexo[\"populacao\"].mean())\n",
        "  df_alfabetizado = df_sexo[df_sexo[\"alfabetizacao\"] == \"Alfabetizadas\"]\n",
        "  alfabetizados_por_sexo = df_alfabetizado[\"populacao\"].sum()/len(df_sexo[\"populacao\"])\n",
        "\n",
        "  #print(\"\\n\")\n",
        "df2 = df[df[\"alfabetizacao\"] == \"Alfabetizadas\"]\n",
        "sns.barplot(x=\"sexo\", y=\"populacao\", data=df2)"
      ],
      "metadata": {
        "colab": {
          "base_uri": "https://localhost:8080/",
          "height": 466
        },
        "id": "p9A43My1WGio",
        "outputId": "1dcbe3e2-c062-4154-a74f-ec6d827789bc"
      },
      "execution_count": 46,
      "outputs": [
        {
          "output_type": "execute_result",
          "data": {
            "text/plain": [
              "<Axes: xlabel='sexo', ylabel='populacao'>"
            ]
          },
          "metadata": {},
          "execution_count": 46
        },
        {
          "output_type": "display_data",
          "data": {
            "text/plain": [
              "<Figure size 640x480 with 1 Axes>"
            ],
            "image/png": "[encoded data removed]"
          },
          "metadata": {}
        }
      ]
    },
    {
      "cell_type": "code",
      "source": [
        "min = df[~df[\"populacao\"].isna()][\"populacao\"].min()\n",
        "max = df[~df[\"populacao\"].isna()][\"populacao\"].max()\n",
        "normalized = 0\n",
        "\n",
        "print(min)\n",
        "print(max)\n",
        "\n",
        "def normalize(value):\n",
        "#  min = df[\"populacao\"].min()\n",
        " # max = df[\"populacao\"].max()\n",
        "  normalized = (value - min)/ (max - min)\n",
        "  return normalized\n",
        "print(normalized)\n",
        "normalized_pop = df[\"populacao\"].map(normalize)\n",
        "normalized_pop"
      ],
      "metadata": {
        "id": "NetAs7nRzm6y",
        "colab": {
          "base_uri": "https://localhost:8080/",
          "height": 510
        },
        "outputId": "8ac70313-1286-4fd2-8082-58b5ff348a92"
      },
      "execution_count": 58,
      "outputs": [
        {
          "output_type": "stream",
          "name": "stdout",
          "text": [
            "1.0\n",
            "536242.0\n",
            "0\n"
          ]
        },
        {
          "output_type": "execute_result",
          "data": {
            "text/plain": [
              "0              NaN\n",
              "1              NaN\n",
              "2              NaN\n",
              "3              NaN\n",
              "4              NaN\n",
              "            ...   \n",
              "779795    0.003338\n",
              "779796    0.003815\n",
              "779797    0.008112\n",
              "779798    0.013363\n",
              "779799    0.025776\n",
              "Name: populacao, Length: 779800, dtype: float64"
            ],
            "text/html": [
              "<div>\n",
              "<style scoped>\n",
              "    .dataframe tbody tr th:only-of-type {\n",
              "        vertical-align: middle;\n",
              "    }\n",
              "\n",
              "    .dataframe tbody tr th {\n",
              "        vertical-align: top;\n",
              "    }\n",
              "\n",
              "    .dataframe thead th {\n",
              "        text-align: right;\n",
              "    }\n",
              "</style>\n",
              "<table border=\"1\" class=\"dataframe\">\n",
              "  <thead>\n",
              "    <tr style=\"text-align: right;\">\n",
              "      <th></th>\n",
              "      <th>populacao</th>\n",
              "    </tr>\n",
              "  </thead>\n",
              "  <tbody>\n",
              "    <tr>\n",
              "      <th>0</th>\n",
              "      <td>NaN</td>\n",
              "    </tr>\n",
              "    <tr>\n",
              "      <th>1</th>\n",
              "      <td>NaN</td>\n",
              "    </tr>\n",
              "    <tr>\n",
              "      <th>2</th>\n",
              "      <td>NaN</td>\n",
              "    </tr>\n",
              "    <tr>\n",
              "      <th>3</th>\n",
              "      <td>NaN</td>\n",
              "    </tr>\n",
              "    <tr>\n",
              "      <th>4</th>\n",
              "      <td>NaN</td>\n",
              "    </tr>\n",
              "    <tr>\n",
              "      <th>...</th>\n",
              "      <td>...</td>\n",
              "    </tr>\n",
              "    <tr>\n",
              "      <th>779795</th>\n",
              "      <td>0.003338</td>\n",
              "    </tr>\n",
              "    <tr>\n",
              "      <th>779796</th>\n",
              "      <td>0.003815</td>\n",
              "    </tr>\n",
              "    <tr>\n",
              "      <th>779797</th>\n",
              "      <td>0.008112</td>\n",
              "    </tr>\n",
              "    <tr>\n",
              "      <th>779798</th>\n",
              "      <td>0.013363</td>\n",
              "    </tr>\n",
              "    <tr>\n",
              "      <th>779799</th>\n",
              "      <td>0.025776</td>\n",
              "    </tr>\n",
              "  </tbody>\n",
              "</table>\n",
              "<p>779800 rows × 1 columns</p>\n",
              "</div><br><label><b>dtype:</b> float64</label>"
            ]
          },
          "metadata": {},
          "execution_count": 58
        }
      ]
    },
    {
      "cell_type": "code",
      "source": [
        "df.head()\n",
        "analfabetos_dict = {\n",
        "    \"Não alfabetizadas\" : 1,\n",
        "    \"Alfabetizados\" : 0\n",
        "}\n",
        "df[\"analfabetos\"] = df[\"alfabetizacao\"].map(analfabetos_dict)\n",
        "df.head(10)"
      ],
      "metadata": {
        "colab": {
          "base_uri": "https://localhost:8080/",
          "height": 363
        },
        "id": "aEbQYZOmJcDv",
        "outputId": "f0263bf5-e4ce-4f28-c434-4c4063e0abde"
      },
      "execution_count": 61,
      "outputs": [
        {
          "output_type": "execute_result",
          "data": {
            "text/plain": [
              "   id_municipio  cor_raca      sexo   grupo_idade      alfabetizacao  \\\n",
              "0       1100023  Indígena    Homens  15 a 19 anos  Não alfabetizadas   \n",
              "1       1100262   Amarela  Mulheres  15 a 19 anos  Não alfabetizadas   \n",
              "2       1101005   Amarela  Mulheres  15 a 19 anos  Não alfabetizadas   \n",
              "3       1101435   Amarela  Mulheres  15 a 19 anos  Não alfabetizadas   \n",
              "4       1101435  Indígena  Mulheres  15 a 19 anos  Não alfabetizadas   \n",
              "5       1100346  Indígena  Mulheres  15 a 19 anos  Não alfabetizadas   \n",
              "6       1100015   Amarela    Homens  15 a 19 anos  Não alfabetizadas   \n",
              "7       1100031     Preta  Mulheres  15 a 19 anos  Não alfabetizadas   \n",
              "8       1101468  Indígena  Mulheres  15 a 19 anos  Não alfabetizadas   \n",
              "9       1303601   Amarela  Mulheres  15 a 19 anos  Não alfabetizadas   \n",
              "\n",
              "   populacao  analfabetos  \n",
              "0        NaN          1.0  \n",
              "1        NaN          1.0  \n",
              "2        NaN          1.0  \n",
              "3        NaN          1.0  \n",
              "4        NaN          1.0  \n",
              "5        NaN          1.0  \n",
              "6        NaN          1.0  \n",
              "7        NaN          1.0  \n",
              "8        NaN          1.0  \n",
              "9        NaN          1.0  "
            ],
            "text/html": [
              "\n",
              "  <div id=\"df-db1664e1-0e9d-40f7-a31c-4de2e9162bea\" class=\"colab-df-container\">\n",
              "    <div>\n",
              "<style scoped>\n",
              "    .dataframe tbody tr th:only-of-type {\n",
              "        vertical-align: middle;\n",
              "    }\n",
              "\n",
              "    .dataframe tbody tr th {\n",
              "        vertical-align: top;\n",
              "    }\n",
              "\n",
              "    .dataframe thead th {\n",
              "        text-align: right;\n",
              "    }\n",
              "</style>\n",
              "<table border=\"1\" class=\"dataframe\">\n",
              "  <thead>\n",
              "    <tr style=\"text-align: right;\">\n",
              "      <th></th>\n",
              "      <th>id_municipio</th>\n",
              "      <th>cor_raca</th>\n",
              "      <th>sexo</th>\n",
              "      <th>grupo_idade</th>\n",
              "      <th>alfabetizacao</th>\n",
              "      <th>populacao</th>\n",
              "      <th>analfabetos</th>\n",
              "    </tr>\n",
              "  </thead>\n",
              "  <tbody>\n",
              "    <tr>\n",
              "      <th>0</th>\n",
              "      <td>1100023</td>\n",
              "      <td>Indígena</td>\n",
              "      <td>Homens</td>\n",
              "      <td>15 a 19 anos</td>\n",
              "      <td>Não alfabetizadas</td>\n",
              "      <td>NaN</td>\n",
              "      <td>1.0</td>\n",
              "    </tr>\n",
              "    <tr>\n",
              "      <th>1</th>\n",
              "      <td>1100262</td>\n",
              "      <td>Amarela</td>\n",
              "      <td>Mulheres</td>\n",
              "      <td>15 a 19 anos</td>\n",
              "      <td>Não alfabetizadas</td>\n",
              "      <td>NaN</td>\n",
              "      <td>1.0</td>\n",
              "    </tr>\n",
              "    <tr>\n",
              "      <th>2</th>\n",
              "      <td>1101005</td>\n",
              "      <td>Amarela</td>\n",
              "      <td>Mulheres</td>\n",
              "      <td>15 a 19 anos</td>\n",
              "      <td>Não alfabetizadas</td>\n",
              "      <td>NaN</td>\n",
              "      <td>1.0</td>\n",
              "    </tr>\n",
              "    <tr>\n",
              "      <th>3</th>\n",
              "      <td>1101435</td>\n",
              "      <td>Amarela</td>\n",
              "      <td>Mulheres</td>\n",
              "      <td>15 a 19 anos</td>\n",
              "      <td>Não alfabetizadas</td>\n",
              "      <td>NaN</td>\n",
              "      <td>1.0</td>\n",
              "    </tr>\n",
              "    <tr>\n",
              "      <th>4</th>\n",
              "      <td>1101435</td>\n",
              "      <td>Indígena</td>\n",
              "      <td>Mulheres</td>\n",
              "      <td>15 a 19 anos</td>\n",
              "      <td>Não alfabetizadas</td>\n",
              "      <td>NaN</td>\n",
              "      <td>1.0</td>\n",
              "    </tr>\n",
              "    <tr>\n",
              "      <th>5</th>\n",
              "      <td>1100346</td>\n",
              "      <td>Indígena</td>\n",
              "      <td>Mulheres</td>\n",
              "      <td>15 a 19 anos</td>\n",
              "      <td>Não alfabetizadas</td>\n",
              "      <td>NaN</td>\n",
              "      <td>1.0</td>\n",
              "    </tr>\n",
              "    <tr>\n",
              "      <th>6</th>\n",
              "      <td>1100015</td>\n",
              "      <td>Amarela</td>\n",
              "      <td>Homens</td>\n",
              "      <td>15 a 19 anos</td>\n",
              "      <td>Não alfabetizadas</td>\n",
              "      <td>NaN</td>\n",
              "      <td>1.0</td>\n",
              "    </tr>\n",
              "    <tr>\n",
              "      <th>7</th>\n",
              "      <td>1100031</td>\n",
              "      <td>Preta</td>\n",
              "      <td>Mulheres</td>\n",
              "      <td>15 a 19 anos</td>\n",
              "      <td>Não alfabetizadas</td>\n",
              "      <td>NaN</td>\n",
              "      <td>1.0</td>\n",
              "    </tr>\n",
              "    <tr>\n",
              "      <th>8</th>\n",
              "      <td>1101468</td>\n",
              "      <td>Indígena</td>\n",
              "      <td>Mulheres</td>\n",
              "      <td>15 a 19 anos</td>\n",
              "      <td>Não alfabetizadas</td>\n",
              "      <td>NaN</td>\n",
              "      <td>1.0</td>\n",
              "    </tr>\n",
              "    <tr>\n",
              "      <th>9</th>\n",
              "      <td>1303601</td>\n",
              "      <td>Amarela</td>\n",
              "      <td>Mulheres</td>\n",
              "      <td>15 a 19 anos</td>\n",
              "      <td>Não alfabetizadas</td>\n",
              "      <td>NaN</td>\n",
              "      <td>1.0</td>\n",
              "    </tr>\n",
              "  </tbody>\n",
              "</table>\n",
              "</div>\n",
              "    <div class=\"colab-df-buttons\">\n",
              "\n",
              "  <div class=\"colab-df-container\">\n",
              "    <button class=\"colab-df-convert\" onclick=\"convertToInteractive('df-db1664e1-0e9d-40f7-a31c-4de2e9162bea')\"\n",
              "            title=\"Convert this dataframe to an interactive table.\"\n",
              "            style=\"display:none;\">\n",
              "\n",
              "  <svg xmlns=\"http://www.w3.org/2000/svg\" height=\"24px\" viewBox=\"0 -960 960 960\">\n",
              "    <path d=\"M120-120v-720h720v720H120Zm60-500h600v-160H180v160Zm220 220h160v-160H400v160Zm0 220h160v-160H400v160ZM180-400h160v-160H180v160Zm440 0h160v-160H620v160ZM180-180h160v-160H180v160Zm440 0h160v-160H620v160Z\"/>\n",
              "  </svg>\n",
              "    </button>\n",
              "\n",
              "  <style>\n",
              "    .colab-df-container {\n",
              "      display:flex;\n",
              "      gap: 12px;\n",
              "    }\n",
              "\n",
              "    .colab-df-convert {\n",
              "      background-color: #E8F0FE;\n",
              "      border: none;\n",
              "      border-radius: 50%;\n",
              "      cursor: pointer;\n",
              "      display: none;\n",
              "      fill: #1967D2;\n",
              "      height: 32px;\n",
              "      padding: 0 0 0 0;\n",
              "      width: 32px;\n",
              "    }\n",
              "\n",
              "    .colab-df-convert:hover {\n",
              "      background-color: #E2EBFA;\n",
              "      box-shadow: 0px 1px 2px rgba(60, 64, 67, 0.3), 0px 1px 3px 1px rgba(60, 64, 67, 0.15);\n",
              "      fill: #174EA6;\n",
              "    }\n",
              "\n",
              "    .colab-df-buttons div {\n",
              "      margin-bottom: 4px;\n",
              "    }\n",
              "\n",
              "    [theme=dark] .colab-df-convert {\n",
              "      background-color: #3B4455;\n",
              "      fill: #D2E3FC;\n",
              "    }\n",
              "\n",
              "    [theme=dark] .colab-df-convert:hover {\n",
              "      background-color: #434B5C;\n",
              "      box-shadow: 0px 1px 3px 1px rgba(0, 0, 0, 0.15);\n",
              "      filter: drop-shadow(0px 1px 2px rgba(0, 0, 0, 0.3));\n",
              "      fill: #FFFFFF;\n",
              "    }\n",
              "  </style>\n",
              "\n",
              "    <script>\n",
              "      const buttonEl =\n",
              "        document.querySelector('#df-db1664e1-0e9d-40f7-a31c-4de2e9162bea button.colab-df-convert');\n",
              "      buttonEl.style.display =\n",
              "        google.colab.kernel.accessAllowed ? 'block' : 'none';\n",
              "\n",
              "      async function convertToInteractive(key) {\n",
              "        const element = document.querySelector('#df-db1664e1-0e9d-40f7-a31c-4de2e9162bea');\n",
              "        const dataTable =\n",
              "          await google.colab.kernel.invokeFunction('convertToInteractive',\n",
              "                                                    [key], {});\n",
              "        if (!dataTable) return;\n",
              "\n",
              "        const docLinkHtml = 'Like what you see? Visit the ' +\n",
              "          '<a target=\"_blank\" href=https://colab.research.google.com/notebooks/data_table.ipynb>data table notebook</a>'\n",
              "          + ' to learn more about interactive tables.';\n",
              "        element.innerHTML = '';\n",
              "        dataTable['output_type'] = 'display_data';\n",
              "        await google.colab.output.renderOutput(dataTable, element);\n",
              "        const docLink = document.createElement('div');\n",
              "        docLink.innerHTML = docLinkHtml;\n",
              "        element.appendChild(docLink);\n",
              "      }\n",
              "    </script>\n",
              "  </div>\n",
              "\n",
              "\n",
              "    <div id=\"df-daf34292-8766-497f-b9dd-c2f035d897fb\">\n",
              "      <button class=\"colab-df-quickchart\" onclick=\"quickchart('df-daf34292-8766-497f-b9dd-c2f035d897fb')\"\n",
              "                title=\"Suggest charts\"\n",
              "                style=\"display:none;\">\n",
              "\n",
              "<svg xmlns=\"http://www.w3.org/2000/svg\" height=\"24px\"viewBox=\"0 0 24 24\"\n",
              "     width=\"24px\">\n",
              "    <g>\n",
              "        <path d=\"M19 3H5c-1.1 0-2 .9-2 2v14c0 1.1.9 2 2 2h14c1.1 0 2-.9 2-2V5c0-1.1-.9-2-2-2zM9 17H7v-7h2v7zm4 0h-2V7h2v10zm4 0h-2v-4h2v4z\"/>\n",
              "    </g>\n",
              "</svg>\n",
              "      </button>\n",
              "\n",
              "<style>\n",
              "  .colab-df-quickchart {\n",
              "      --bg-color: #E8F0FE;\n",
              "      --fill-color: #1967D2;\n",
              "      --hover-bg-color: #E2EBFA;\n",
              "      --hover-fill-color: #174EA6;\n",
              "      --disabled-fill-color: #AAA;\n",
              "      --disabled-bg-color: #DDD;\n",
              "  }\n",
              "\n",
              "  [theme=dark] .colab-df-quickchart {\n",
              "      --bg-color: #3B4455;\n",
              "      --fill-color: #D2E3FC;\n",
              "      --hover-bg-color: #434B5C;\n",
              "      --hover-fill-color: #FFFFFF;\n",
              "      --disabled-bg-color: #3B4455;\n",
              "      --disabled-fill-color: #666;\n",
              "  }\n",
              "\n",
              "  .colab-df-quickchart {\n",
              "    background-color: var(--bg-color);\n",
              "    border: none;\n",
              "    border-radius: 50%;\n",
              "    cursor: pointer;\n",
              "    display: none;\n",
              "    fill: var(--fill-color);\n",
              "    height: 32px;\n",
              "    padding: 0;\n",
              "    width: 32px;\n",
              "  }\n",
              "\n",
              "  .colab-df-quickchart:hover {\n",
              "    background-color: var(--hover-bg-color);\n",
              "    box-shadow: 0 1px 2px rgba(60, 64, 67, 0.3), 0 1px 3px 1px rgba(60, 64, 67, 0.15);\n",
              "    fill: var(--button-hover-fill-color);\n",
              "  }\n",
              "\n",
              "  .colab-df-quickchart-complete:disabled,\n",
              "  .colab-df-quickchart-complete:disabled:hover {\n",
              "    background-color: var(--disabled-bg-color);\n",
              "    fill: var(--disabled-fill-color);\n",
              "    box-shadow: none;\n",
              "  }\n",
              "\n",
              "  .colab-df-spinner {\n",
              "    border: 2px solid var(--fill-color);\n",
              "    border-color: transparent;\n",
              "    border-bottom-color: var(--fill-color);\n",
              "    animation:\n",
              "      spin 1s steps(1) infinite;\n",
              "  }\n",
              "\n",
              "  @keyframes spin {\n",
              "    0% {\n",
              "      border-color: transparent;\n",
              "      border-bottom-color: var(--fill-color);\n",
              "      border-left-color: var(--fill-color);\n",
              "    }\n",
              "    20% {\n",
              "      border-color: transparent;\n",
              "      border-left-color: var(--fill-color);\n",
              "      border-top-color: var(--fill-color);\n",
              "    }\n",
              "    30% {\n",
              "      border-color: transparent;\n",
              "      border-left-color: var(--fill-color);\n",
              "      border-top-color: var(--fill-color);\n",
              "      border-right-color: var(--fill-color);\n",
              "    }\n",
              "    40% {\n",
              "      border-color: transparent;\n",
              "      border-right-color: var(--fill-color);\n",
              "      border-top-color: var(--fill-color);\n",
              "    }\n",
              "    60% {\n",
              "      border-color: transparent;\n",
              "      border-right-color: var(--fill-color);\n",
              "    }\n",
              "    80% {\n",
              "      border-color: transparent;\n",
              "      border-right-color: var(--fill-color);\n",
              "      border-bottom-color: var(--fill-color);\n",
              "    }\n",
              "    90% {\n",
              "      border-color: transparent;\n",
              "      border-bottom-color: var(--fill-color);\n",
              "    }\n",
              "  }\n",
              "</style>\n",
              "\n",
              "      <script>\n",
              "        async function quickchart(key) {\n",
              "          const quickchartButtonEl =\n",
              "            document.querySelector('#' + key + ' button');\n",
              "          quickchartButtonEl.disabled = true;  // To prevent multiple clicks.\n",
              "          quickchartButtonEl.classList.add('colab-df-spinner');\n",
              "          try {\n",
              "            const charts = await google.colab.kernel.invokeFunction(\n",
              "                'suggestCharts', [key], {});\n",
              "          } catch (error) {\n",
              "            console.error('Error during call to suggestCharts:', error);\n",
              "          }\n",
              "          quickchartButtonEl.classList.remove('colab-df-spinner');\n",
              "          quickchartButtonEl.classList.add('colab-df-quickchart-complete');\n",
              "        }\n",
              "        (() => {\n",
              "          let quickchartButtonEl =\n",
              "            document.querySelector('#df-daf34292-8766-497f-b9dd-c2f035d897fb button');\n",
              "          quickchartButtonEl.style.display =\n",
              "            google.colab.kernel.accessAllowed ? 'block' : 'none';\n",
              "        })();\n",
              "      </script>\n",
              "    </div>\n",
              "\n",
              "    </div>\n",
              "  </div>\n"
            ],
            "application/vnd.google.colaboratory.intrinsic+json": {
              "type": "dataframe",
              "variable_name": "df"
            }
          },
          "metadata": {},
          "execution_count": 61
        }
      ]
    },
    {
      "cell_type": "markdown",
      "source": [
        "### 31 - 40"
      ],
      "metadata": {
        "id": "Us3386DQQWBI"
      }
    },
    {
      "cell_type": "markdown",
      "source": [
        "### 41 - 50"
      ],
      "metadata": {
        "id": "Z2MOJ4CBQmGQ"
      }
    },
    {
      "cell_type": "markdown",
      "source": [
        "### 51 - 60"
      ],
      "metadata": {
        "id": "fp3aQP3FQmev"
      }
    },
    {
      "cell_type": "code",
      "source": [],
      "metadata": {
        "id": "TU8NPiemQQq2"
      },
      "execution_count": null,
      "outputs": []
    }
  ]
}