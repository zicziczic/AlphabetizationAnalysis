{
  "nbformat": 4,
  "nbformat_minor": 0,
  "metadata": {
    "colab": {
      "provenance": []
    },
    "kernelspec": {
      "name": "python3",
      "display_name": "Python 3"
    },
    "language_info": {
      "name": "python"
    }
  },
  "cells": [
    {
      "cell_type": "code",
      "source": [],
      "metadata": {
        "id": "kbusweEcpHA5"
      },
      "execution_count": 28,
      "outputs": []
    },
    {
      "cell_type": "markdown",
      "source": [
        "### 1 - 10"
      ],
      "metadata": {
        "id": "qrj7anw0QPok"
      }
    },
    {
      "cell_type": "code",
      "source": [
        "#1\n",
        "print(\"Hello World\")"
      ],
      "metadata": {
        "colab": {
          "base_uri": "https://localhost:8080/"
        },
        "id": "ZHiISWb-QqaF",
        "outputId": "a9c388f0-80e4-4a54-8be6-609957614ad7"
      },
      "execution_count": 30,
      "outputs": [
        {
          "output_type": "stream",
          "name": "stdout",
          "text": [
            "Hello World\n"
          ]
        }
      ]
    },
    {
      "cell_type": "code",
      "source": [
        "def saudacao(nome, idade):\n",
        "  print(\"Saudações \", nome ,\" você tem\", idade ,\"anos né?\")\n",
        "\n",
        "saudacao(\"gabriel\", 21)"
      ],
      "metadata": {
        "colab": {
          "base_uri": "https://localhost:8080/"
        },
        "id": "ACit4ctnQu-E",
        "outputId": "baec8f8d-fd6b-44bf-e2ac-de10014fc6b7"
      },
      "execution_count": 31,
      "outputs": [
        {
          "output_type": "stream",
          "name": "stdout",
          "text": [
            "Saudações  gabriel  você tem 21 anos né?\n"
          ]
        }
      ]
    },
    {
      "cell_type": "code",
      "source": [
        "def is_par(numero): return numero%2==0"
      ],
      "metadata": {
        "id": "otNenT2cQv3s"
      },
      "execution_count": 32,
      "outputs": []
    },
    {
      "cell_type": "code",
      "source": [
        "lista_5 = [x for x in range(5)]"
      ],
      "metadata": {
        "id": "13vJJqWyQwjt"
      },
      "execution_count": 33,
      "outputs": []
    },
    {
      "cell_type": "code",
      "source": [
        "lista = [1,2,3,4,5,6,7]\n",
        "sum(lista)"
      ],
      "metadata": {
        "colab": {
          "base_uri": "https://localhost:8080/"
        },
        "id": "w2q-3gGRSMt1",
        "outputId": "9aee5c6b-4394-48ea-a33e-cfc89da85a7b"
      },
      "execution_count": 34,
      "outputs": [
        {
          "output_type": "execute_result",
          "data": {
            "text/plain": [
              "28"
            ]
          },
          "metadata": {},
          "execution_count": 34
        }
      ]
    },
    {
      "cell_type": "code",
      "source": [
        "maior_elemento = max(lista)\n",
        "maior_elemento"
      ],
      "metadata": {
        "colab": {
          "base_uri": "https://localhost:8080/"
        },
        "id": "gtDZVE04Q2oG",
        "outputId": "4b347b8d-1403-4240-d52c-8768347cb058"
      },
      "execution_count": 35,
      "outputs": [
        {
          "output_type": "execute_result",
          "data": {
            "text/plain": [
              "7"
            ]
          },
          "metadata": {},
          "execution_count": 35
        }
      ]
    },
    {
      "cell_type": "code",
      "source": [
        "identificador_pessoa = {\n",
        "    \"nome\" : \"Gabriel\",\n",
        "    \"idade\": 21,\n",
        "    \"Ano Nascimento\": 2003\n",
        "}"
      ],
      "metadata": {
        "id": "QiiCvFIlQ3Gm"
      },
      "execution_count": 36,
      "outputs": []
    },
    {
      "cell_type": "code",
      "source": [
        "identificador_pessoa[\"UF\"] = \"Pará\""
      ],
      "metadata": {
        "id": "vHsnanc8Q3TH"
      },
      "execution_count": 37,
      "outputs": []
    },
    {
      "cell_type": "code",
      "source": [
        "def fatorial(numero):\n",
        "  if numero == 1:\n",
        "    return 1\n",
        "  return fatorial(numero-1) * numero"
      ],
      "metadata": {
        "id": "Djy-C8AaQ3dm"
      },
      "execution_count": 38,
      "outputs": []
    },
    {
      "cell_type": "code",
      "source": [
        "def calcular_media(lista):\n",
        "  return sum(lista)/len(lista)"
      ],
      "metadata": {
        "id": "Q8odWjW_SnPf"
      },
      "execution_count": 39,
      "outputs": []
    },
    {
      "cell_type": "markdown",
      "source": [
        "### 11 - 20"
      ],
      "metadata": {
        "id": "n61vzeDRQVyY"
      }
    },
    {
      "cell_type": "code",
      "source": [
        "string = \"abcdef\"\n",
        "string.upper()"
      ],
      "metadata": {
        "colab": {
          "base_uri": "https://localhost:8080/",
          "height": 35
        },
        "id": "08i6oR-gSvaZ",
        "outputId": "95918086-9e60-430b-c128-e8edfaf16c64"
      },
      "execution_count": 40,
      "outputs": [
        {
          "output_type": "execute_result",
          "data": {
            "text/plain": [
              "'ABCDEF'"
            ],
            "application/vnd.google.colaboratory.intrinsic+json": {
              "type": "string"
            }
          },
          "metadata": {},
          "execution_count": 40
        }
      ]
    },
    {
      "cell_type": "code",
      "source": [
        "string.count('a')"
      ],
      "metadata": {
        "colab": {
          "base_uri": "https://localhost:8080/"
        },
        "id": "AYZEpTxWS3mW",
        "outputId": "7437a476-31a6-43c9-83b7-cd3f798fdd89"
      },
      "execution_count": 41,
      "outputs": [
        {
          "output_type": "execute_result",
          "data": {
            "text/plain": [
              "1"
            ]
          },
          "metadata": {},
          "execution_count": 41
        }
      ]
    },
    {
      "cell_type": "code",
      "source": [
        "lista1a10 = [i for i in range(10)]"
      ],
      "metadata": {
        "id": "bXs2HRS0S5_K"
      },
      "execution_count": 43,
      "outputs": []
    },
    {
      "cell_type": "code",
      "source": [
        "numeros_par = [x for x in lista1a10 if x%2==0]"
      ],
      "metadata": {
        "id": "3I7tPvo4S6UX"
      },
      "execution_count": 45,
      "outputs": []
    },
    {
      "cell_type": "code",
      "source": [
        "func_lambda = lambda x: x * 2"
      ],
      "metadata": {
        "id": "lFLoVMbSS6gX"
      },
      "execution_count": 48,
      "outputs": []
    },
    {
      "cell_type": "code",
      "source": [
        "numeros_par = map(func_lambda, numeros_par)"
      ],
      "metadata": {
        "id": "Ib1h3e5oS6qn"
      },
      "execution_count": 50,
      "outputs": []
    },
    {
      "cell_type": "code",
      "source": [
        "tupla = (1,2)\n",
        "tupla[1]"
      ],
      "metadata": {
        "id": "16JVCKwJS61w",
        "colab": {
          "base_uri": "https://localhost:8080/"
        },
        "outputId": "127c2585-09f7-415b-a44e-e2c568f7902c"
      },
      "execution_count": 52,
      "outputs": [
        {
          "output_type": "execute_result",
          "data": {
            "text/plain": [
              "2"
            ]
          },
          "metadata": {},
          "execution_count": 52
        }
      ]
    },
    {
      "cell_type": "code",
      "source": [
        "hash_map = set([1,2,4,6,8,11,12,123])\n",
        "\n",
        "for i in range(10):\n",
        "  if i in hash_map:\n",
        "    print(f\"O valor {i} está presente\")"
      ],
      "metadata": {
        "id": "0NLgYZ3VS8K-",
        "colab": {
          "base_uri": "https://localhost:8080/"
        },
        "outputId": "0df2d962-f6d0-4234-e978-b2a0978856b1"
      },
      "execution_count": 61,
      "outputs": [
        {
          "output_type": "stream",
          "name": "stdout",
          "text": [
            "O valor 1 está presente\n",
            "O valor 2 está presente\n",
            "O valor 4 está presente\n",
            "O valor 6 está presente\n",
            "O valor 8 está presente\n"
          ]
        }
      ]
    },
    {
      "cell_type": "code",
      "source": [
        "valores_duplicados = [11,1,1,2,2,3,3,4,5,6,7,7]\n",
        "hash_map = set(valores_duplicados)\n",
        "\n",
        "print(list(hash_map))"
      ],
      "metadata": {
        "colab": {
          "base_uri": "https://localhost:8080/"
        },
        "id": "2AVHJDNBwJgu",
        "outputId": "7e20763c-bc34-480c-a0e4-d4edc1bc5343"
      },
      "execution_count": 63,
      "outputs": [
        {
          "output_type": "stream",
          "name": "stdout",
          "text": [
            "[1, 2, 3, 4, 5, 6, 7, 11]\n"
          ]
        }
      ]
    },
    {
      "cell_type": "code",
      "source": [
        "for i in range(5): print(i)"
      ],
      "metadata": {
        "id": "9uuOB9MPS8Zm",
        "colab": {
          "base_uri": "https://localhost:8080/"
        },
        "outputId": "47702238-e41c-49ea-e34b-5722325f0e89"
      },
      "execution_count": 64,
      "outputs": [
        {
          "output_type": "stream",
          "name": "stdout",
          "text": [
            "0\n",
            "1\n",
            "2\n",
            "3\n",
            "4\n"
          ]
        }
      ]
    },
    {
      "cell_type": "markdown",
      "source": [],
      "metadata": {
        "id": "MSAbjo68S3vP"
      }
    },
    {
      "cell_type": "markdown",
      "source": [
        "### 21 - 30"
      ],
      "metadata": {
        "id": "h-1jOOL8QV83"
      }
    },
    {
      "cell_type": "markdown",
      "source": [
        "### 31 - 40"
      ],
      "metadata": {
        "id": "Us3386DQQWBI"
      }
    },
    {
      "cell_type": "markdown",
      "source": [
        "### 41 - 50"
      ],
      "metadata": {
        "id": "Z2MOJ4CBQmGQ"
      }
    },
    {
      "cell_type": "markdown",
      "source": [
        "### 51 - 60"
      ],
      "metadata": {
        "id": "fp3aQP3FQmev"
      }
    },
    {
      "cell_type": "code",
      "source": [],
      "metadata": {
        "id": "TU8NPiemQQq2"
      },
      "execution_count": null,
      "outputs": []
    }
  ]
}